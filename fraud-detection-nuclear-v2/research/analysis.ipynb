{
 "cells": [
  {
   "cell_type": "code",
   "execution_count": 796,
   "metadata": {},
   "outputs": [],
   "source": [
    "import pandas as pd\n",
    "import numpy as np\n",
    "import matplotlib.pyplot as plt\n",
    "import seaborn as sns\n",
    "import plotly.express as px\n",
    "sns.set(style='darkgrid')"
   ]
  },
  {
   "cell_type": "code",
   "execution_count": 797,
   "metadata": {},
   "outputs": [
    {
     "data": {
      "text/html": [
       "<div>\n",
       "<style scoped>\n",
       "    .dataframe tbody tr th:only-of-type {\n",
       "        vertical-align: middle;\n",
       "    }\n",
       "\n",
       "    .dataframe tbody tr th {\n",
       "        vertical-align: top;\n",
       "    }\n",
       "\n",
       "    .dataframe thead th {\n",
       "        text-align: right;\n",
       "    }\n",
       "</style>\n",
       "<table border=\"1\" class=\"dataframe\">\n",
       "  <thead>\n",
       "    <tr style=\"text-align: right;\">\n",
       "      <th></th>\n",
       "      <th>CUSTOMER_ID</th>\n",
       "      <th>x_customer_id</th>\n",
       "      <th>y_customer_id</th>\n",
       "      <th>mean_amount</th>\n",
       "      <th>std_amount</th>\n",
       "      <th>mean_nb_tx_per_day</th>\n",
       "      <th>available_terminals</th>\n",
       "      <th>nb_terminals</th>\n",
       "    </tr>\n",
       "  </thead>\n",
       "  <tbody>\n",
       "    <tr>\n",
       "      <th>0</th>\n",
       "      <td>0</td>\n",
       "      <td>54.881350</td>\n",
       "      <td>71.518937</td>\n",
       "      <td>62.262521</td>\n",
       "      <td>31.131260</td>\n",
       "      <td>2.179533</td>\n",
       "      <td>[29, 87, 144, 241, 330, 858, 996, 1028, 1067, ...</td>\n",
       "      <td>22</td>\n",
       "    </tr>\n",
       "    <tr>\n",
       "      <th>1</th>\n",
       "      <td>1</td>\n",
       "      <td>42.365480</td>\n",
       "      <td>64.589411</td>\n",
       "      <td>46.570785</td>\n",
       "      <td>23.285393</td>\n",
       "      <td>3.567092</td>\n",
       "      <td>[5, 160, 242, 378, 431, 475, 571, 762, 876, 93...</td>\n",
       "      <td>20</td>\n",
       "    </tr>\n",
       "    <tr>\n",
       "      <th>2</th>\n",
       "      <td>2</td>\n",
       "      <td>96.366276</td>\n",
       "      <td>38.344152</td>\n",
       "      <td>80.213879</td>\n",
       "      <td>40.106939</td>\n",
       "      <td>2.115580</td>\n",
       "      <td>[316, 406, 447, 523, 968, 1200, 1318, 1365, 16...</td>\n",
       "      <td>10</td>\n",
       "    </tr>\n",
       "    <tr>\n",
       "      <th>3</th>\n",
       "      <td>3</td>\n",
       "      <td>56.804456</td>\n",
       "      <td>92.559664</td>\n",
       "      <td>11.748426</td>\n",
       "      <td>5.874213</td>\n",
       "      <td>0.348517</td>\n",
       "      <td>[65, 94, 113, 364, 401, 433, 485, 651, 672, 77...</td>\n",
       "      <td>17</td>\n",
       "    </tr>\n",
       "    <tr>\n",
       "      <th>4</th>\n",
       "      <td>4</td>\n",
       "      <td>2.021840</td>\n",
       "      <td>83.261985</td>\n",
       "      <td>78.924891</td>\n",
       "      <td>39.462446</td>\n",
       "      <td>3.480049</td>\n",
       "      <td>[372, 614, 774, 1362, 1446, 1564, 1637, 1939]</td>\n",
       "      <td>8</td>\n",
       "    </tr>\n",
       "  </tbody>\n",
       "</table>\n",
       "</div>"
      ],
      "text/plain": [
       "   CUSTOMER_ID  x_customer_id  y_customer_id  mean_amount  std_amount  \\\n",
       "0            0      54.881350      71.518937    62.262521   31.131260   \n",
       "1            1      42.365480      64.589411    46.570785   23.285393   \n",
       "2            2      96.366276      38.344152    80.213879   40.106939   \n",
       "3            3      56.804456      92.559664    11.748426    5.874213   \n",
       "4            4       2.021840      83.261985    78.924891   39.462446   \n",
       "\n",
       "   mean_nb_tx_per_day                                available_terminals  \\\n",
       "0            2.179533  [29, 87, 144, 241, 330, 858, 996, 1028, 1067, ...   \n",
       "1            3.567092  [5, 160, 242, 378, 431, 475, 571, 762, 876, 93...   \n",
       "2            2.115580  [316, 406, 447, 523, 968, 1200, 1318, 1365, 16...   \n",
       "3            0.348517  [65, 94, 113, 364, 401, 433, 485, 651, 672, 77...   \n",
       "4            3.480049      [372, 614, 774, 1362, 1446, 1564, 1637, 1939]   \n",
       "\n",
       "   nb_terminals  \n",
       "0            22  \n",
       "1            20  \n",
       "2            10  \n",
       "3            17  \n",
       "4             8  "
      ]
     },
     "execution_count": 797,
     "metadata": {},
     "output_type": "execute_result"
    }
   ],
   "source": [
    "cstm = pd.read_csv('../data/customer.csv')\n",
    "cstm.head()"
   ]
  },
  {
   "cell_type": "code",
   "execution_count": 798,
   "metadata": {},
   "outputs": [
    {
     "data": {
      "text/html": [
       "<div>\n",
       "<style scoped>\n",
       "    .dataframe tbody tr th:only-of-type {\n",
       "        vertical-align: middle;\n",
       "    }\n",
       "\n",
       "    .dataframe tbody tr th {\n",
       "        vertical-align: top;\n",
       "    }\n",
       "\n",
       "    .dataframe thead th {\n",
       "        text-align: right;\n",
       "    }\n",
       "</style>\n",
       "<table border=\"1\" class=\"dataframe\">\n",
       "  <thead>\n",
       "    <tr style=\"text-align: right;\">\n",
       "      <th></th>\n",
       "      <th>TERMINAL_ID</th>\n",
       "      <th>x_terminal_id</th>\n",
       "      <th>y_terminal_id</th>\n",
       "    </tr>\n",
       "  </thead>\n",
       "  <tbody>\n",
       "    <tr>\n",
       "      <th>0</th>\n",
       "      <td>0</td>\n",
       "      <td>41.702200</td>\n",
       "      <td>72.032449</td>\n",
       "    </tr>\n",
       "    <tr>\n",
       "      <th>1</th>\n",
       "      <td>1</td>\n",
       "      <td>0.011437</td>\n",
       "      <td>30.233257</td>\n",
       "    </tr>\n",
       "    <tr>\n",
       "      <th>2</th>\n",
       "      <td>2</td>\n",
       "      <td>14.675589</td>\n",
       "      <td>9.233859</td>\n",
       "    </tr>\n",
       "    <tr>\n",
       "      <th>3</th>\n",
       "      <td>3</td>\n",
       "      <td>18.626021</td>\n",
       "      <td>34.556073</td>\n",
       "    </tr>\n",
       "    <tr>\n",
       "      <th>4</th>\n",
       "      <td>4</td>\n",
       "      <td>39.676747</td>\n",
       "      <td>53.881673</td>\n",
       "    </tr>\n",
       "  </tbody>\n",
       "</table>\n",
       "</div>"
      ],
      "text/plain": [
       "   TERMINAL_ID  x_terminal_id  y_terminal_id\n",
       "0            0      41.702200      72.032449\n",
       "1            1       0.011437      30.233257\n",
       "2            2      14.675589       9.233859\n",
       "3            3      18.626021      34.556073\n",
       "4            4      39.676747      53.881673"
      ]
     },
     "execution_count": 798,
     "metadata": {},
     "output_type": "execute_result"
    }
   ],
   "source": [
    "terminal = pd.read_csv('../data/terminal.csv')\n",
    "terminal.head()"
   ]
  },
  {
   "cell_type": "markdown",
   "metadata": {},
   "source": [
    "Columns in customer.csv\n",
    "CUSTOMER_ID - customer ID\n",
    "x_customer_id - x-coordinate of the customer\n",
    "y_customer_id - y-coordinate of the customer\n",
    "mean_amount - mean amount spent by the customer\n",
    "std_amount - standard deviation of the amount spent by the customer\n",
    "mean_nb_tx_per_day - mean number of transactions made by the customer per day\n",
    "available_terminals - terminals where the customer is able to make transactions. We assume that customers can only make transactions at terminals within a radius of 5 units from the location of the customer\n",
    "nb_terminals - number of terminals that the customer can make transactions\n",
    "Columns in terminal.csv\n",
    "TERMINAL_ID - terminal ID\n",
    "x_terminal_id - x-coordinate of the terminal\n",
    "y_terminal_id - y-coordinate of the terminal"
   ]
  },
  {
   "cell_type": "code",
   "execution_count": 799,
   "metadata": {},
   "outputs": [
    {
     "name": "stdout",
     "output_type": "stream",
     "text": [
      "Rows: 1000 | Columns: 8 (Customers)\n",
      "Rows: 2000 | Columns: 3 (Terminal)\n"
     ]
    }
   ],
   "source": [
    "print(f'Rows: {cstm.shape[0]} | Columns: {cstm.shape[1]} (Customers)')\n",
    "print(f'Rows: {terminal.shape[0]} | Columns: {terminal.shape[1]} (Terminal)')"
   ]
  },
  {
   "cell_type": "code",
   "execution_count": 800,
   "metadata": {},
   "outputs": [
    {
     "name": "stdout",
     "output_type": "stream",
     "text": [
      "The combined dataframe has 291231 rows and 6 columns.\n",
      "The combined dataframe has 0 missing values.\n",
      "       TRANSACTION_ID    CUSTOMER_ID    TERMINAL_ID      TX_AMOUNT  \\\n",
      "count   291231.000000  291231.000000  291231.000000  291231.000000   \n",
      "mean    204998.000000     496.256202     993.718526      53.182274   \n",
      "std      84071.292461     285.274966     575.267551      39.573329   \n",
      "min      59383.000000       0.000000       0.000000       0.000000   \n",
      "25%     132190.500000     249.000000     496.000000      21.130000   \n",
      "50%     204998.000000     498.000000    1000.000000      44.770000   \n",
      "75%     277805.500000     741.000000    1483.000000      76.850000   \n",
      "max     350613.000000     999.000000    1999.000000     291.150000   \n",
      "\n",
      "            TX_FRAUD  \n",
      "count  291231.000000  \n",
      "mean        0.022601  \n",
      "std         0.148627  \n",
      "min         0.000000  \n",
      "25%         0.000000  \n",
      "50%         0.000000  \n",
      "75%         0.000000  \n",
      "max         1.000000  \n"
     ]
    }
   ],
   "source": [
    "df = pd.read_csv('../data/train.csv')\n",
    "df_test = pd.read_csv('../data/test.csv')\n",
    "\n",
    "# df = pd.concat([df_train, df_test], ignore_index=True)\n",
    "\n",
    "print(f\"The combined dataframe has {df.shape[0]} rows and {df.shape[1]} columns.\")\n",
    "\n",
    "print(f\"The combined dataframe has {df.isnull().sum().sum()} missing values.\")\n",
    "\n",
    "\n",
    "print(df.describe())\n",
    "\n"
   ]
  },
  {
   "cell_type": "code",
   "execution_count": 801,
   "metadata": {},
   "outputs": [],
   "source": [
    "cstm.columns = [x.lower() for x in cstm.columns]\n",
    "terminal.columns = [x.lower() for x in terminal.columns]\n",
    "df.columns = [x.lower() for x in df.columns]"
   ]
  },
  {
   "cell_type": "code",
   "execution_count": 802,
   "metadata": {},
   "outputs": [
    {
     "data": {
      "text/html": [
       "<div>\n",
       "<style scoped>\n",
       "    .dataframe tbody tr th:only-of-type {\n",
       "        vertical-align: middle;\n",
       "    }\n",
       "\n",
       "    .dataframe tbody tr th {\n",
       "        vertical-align: top;\n",
       "    }\n",
       "\n",
       "    .dataframe thead th {\n",
       "        text-align: right;\n",
       "    }\n",
       "</style>\n",
       "<table border=\"1\" class=\"dataframe\">\n",
       "  <thead>\n",
       "    <tr style=\"text-align: right;\">\n",
       "      <th></th>\n",
       "      <th>transaction_id</th>\n",
       "      <th>tx_datetime</th>\n",
       "      <th>customer_id</th>\n",
       "      <th>terminal_id</th>\n",
       "      <th>tx_amount</th>\n",
       "      <th>tx_fraud</th>\n",
       "    </tr>\n",
       "  </thead>\n",
       "  <tbody>\n",
       "    <tr>\n",
       "      <th>0</th>\n",
       "      <td>59383</td>\n",
       "      <td>2021-08-01 00:04:37</td>\n",
       "      <td>323</td>\n",
       "      <td>217</td>\n",
       "      <td>4.60</td>\n",
       "      <td>0</td>\n",
       "    </tr>\n",
       "    <tr>\n",
       "      <th>1</th>\n",
       "      <td>59384</td>\n",
       "      <td>2021-08-01 00:12:10</td>\n",
       "      <td>6</td>\n",
       "      <td>429</td>\n",
       "      <td>8.61</td>\n",
       "      <td>0</td>\n",
       "    </tr>\n",
       "    <tr>\n",
       "      <th>2</th>\n",
       "      <td>59385</td>\n",
       "      <td>2021-08-01 00:12:34</td>\n",
       "      <td>714</td>\n",
       "      <td>1011</td>\n",
       "      <td>64.00</td>\n",
       "      <td>0</td>\n",
       "    </tr>\n",
       "    <tr>\n",
       "      <th>3</th>\n",
       "      <td>59386</td>\n",
       "      <td>2021-08-01 00:15:40</td>\n",
       "      <td>266</td>\n",
       "      <td>1969</td>\n",
       "      <td>12.72</td>\n",
       "      <td>0</td>\n",
       "    </tr>\n",
       "    <tr>\n",
       "      <th>4</th>\n",
       "      <td>59387</td>\n",
       "      <td>2021-08-01 00:16:01</td>\n",
       "      <td>890</td>\n",
       "      <td>1482</td>\n",
       "      <td>98.88</td>\n",
       "      <td>0</td>\n",
       "    </tr>\n",
       "  </tbody>\n",
       "</table>\n",
       "</div>"
      ],
      "text/plain": [
       "   transaction_id          tx_datetime  customer_id  terminal_id  tx_amount  \\\n",
       "0           59383  2021-08-01 00:04:37          323          217       4.60   \n",
       "1           59384  2021-08-01 00:12:10            6          429       8.61   \n",
       "2           59385  2021-08-01 00:12:34          714         1011      64.00   \n",
       "3           59386  2021-08-01 00:15:40          266         1969      12.72   \n",
       "4           59387  2021-08-01 00:16:01          890         1482      98.88   \n",
       "\n",
       "   tx_fraud  \n",
       "0         0  \n",
       "1         0  \n",
       "2         0  \n",
       "3         0  \n",
       "4         0  "
      ]
     },
     "execution_count": 802,
     "metadata": {},
     "output_type": "execute_result"
    }
   ],
   "source": [
    "df.head()\n"
   ]
  },
  {
   "cell_type": "code",
   "execution_count": 803,
   "metadata": {},
   "outputs": [
    {
     "name": "stdout",
     "output_type": "stream",
     "text": [
      "0\n"
     ]
    }
   ],
   "source": [
    "print(df['tx_fraud'].isna().sum())"
   ]
  },
  {
   "cell_type": "code",
   "execution_count": 804,
   "metadata": {},
   "outputs": [
    {
     "data": {
      "text/plain": [
       "tx_fraud\n",
       "0    284649\n",
       "1      6582\n",
       "Name: transaction_id, dtype: int64"
      ]
     },
     "execution_count": 804,
     "metadata": {},
     "output_type": "execute_result"
    }
   ],
   "source": [
    "df.groupby('tx_fraud')['transaction_id'].count()"
   ]
  },
  {
   "cell_type": "code",
   "execution_count": 805,
   "metadata": {},
   "outputs": [
    {
     "data": {
      "text/plain": [
       "<Axes: xlabel='tx_fraud'>"
      ]
     },
     "execution_count": 805,
     "metadata": {},
     "output_type": "execute_result"
    },
    {
     "data": {
      "image/png": "[encoded data removed]",
      "text/plain": [
       "<Figure size 640x480 with 1 Axes>"
      ]
     },
     "metadata": {},
     "output_type": "display_data"
    }
   ],
   "source": [
    "fraud_counts = df['tx_fraud'].value_counts(dropna=False)\n",
    "sns.barplot(x=fraud_counts.index, y=fraud_counts.values)"
   ]
  },
  {
   "cell_type": "code",
   "execution_count": 806,
   "metadata": {},
   "outputs": [],
   "source": [
    "\n",
    "df = pd.merge(df, terminal, on='terminal_id', how='left')\n",
    "df = pd.merge(df, cstm, on='customer_id', how='left')\n"
   ]
  },
  {
   "cell_type": "code",
   "execution_count": 807,
   "metadata": {},
   "outputs": [],
   "source": [
    "df = df.drop_duplicates()"
   ]
  },
  {
   "cell_type": "code",
   "execution_count": null,
   "metadata": {},
   "outputs": [],
   "source": []
  },
  {
   "cell_type": "code",
   "execution_count": 808,
   "metadata": {},
   "outputs": [
    {
     "data": {
      "text/plain": [
       "0"
      ]
     },
     "execution_count": 808,
     "metadata": {},
     "output_type": "execute_result"
    }
   ],
   "source": [
    "df[df['tx_fraud'].isna()]['customer_id'].nunique()"
   ]
  },
  {
   "cell_type": "code",
   "execution_count": 809,
   "metadata": {},
   "outputs": [
    {
     "data": {
      "text/plain": [
       "Index(['transaction_id', 'tx_datetime', 'customer_id', 'terminal_id',\n",
       "       'tx_amount', 'tx_fraud', 'x_terminal_id', 'y_terminal_id',\n",
       "       'x_customer_id', 'y_customer_id', 'mean_amount', 'std_amount',\n",
       "       'mean_nb_tx_per_day', 'available_terminals', 'nb_terminals'],\n",
       "      dtype='object')"
      ]
     },
     "execution_count": 809,
     "metadata": {},
     "output_type": "execute_result"
    }
   ],
   "source": [
    "df.columns"
   ]
  },
  {
   "cell_type": "markdown",
   "metadata": {},
   "source": [
    "df.dtypes"
   ]
  },
  {
   "cell_type": "code",
   "execution_count": 810,
   "metadata": {},
   "outputs": [],
   "source": [
    "df['tx_datetime'] = pd.to_datetime(df['tx_datetime'])"
   ]
  },
  {
   "cell_type": "code",
   "execution_count": 811,
   "metadata": {},
   "outputs": [
    {
     "data": {
      "text/html": [
       "<div>\n",
       "<style scoped>\n",
       "    .dataframe tbody tr th:only-of-type {\n",
       "        vertical-align: middle;\n",
       "    }\n",
       "\n",
       "    .dataframe tbody tr th {\n",
       "        vertical-align: top;\n",
       "    }\n",
       "\n",
       "    .dataframe thead th {\n",
       "        text-align: right;\n",
       "    }\n",
       "</style>\n",
       "<table border=\"1\" class=\"dataframe\">\n",
       "  <thead>\n",
       "    <tr style=\"text-align: right;\">\n",
       "      <th></th>\n",
       "      <th>transaction_id</th>\n",
       "      <th>tx_datetime</th>\n",
       "      <th>customer_id</th>\n",
       "      <th>terminal_id</th>\n",
       "      <th>tx_amount</th>\n",
       "      <th>tx_fraud</th>\n",
       "      <th>x_terminal_id</th>\n",
       "      <th>y_terminal_id</th>\n",
       "      <th>x_customer_id</th>\n",
       "      <th>y_customer_id</th>\n",
       "      <th>mean_amount</th>\n",
       "      <th>std_amount</th>\n",
       "      <th>mean_nb_tx_per_day</th>\n",
       "      <th>available_terminals</th>\n",
       "      <th>nb_terminals</th>\n",
       "    </tr>\n",
       "  </thead>\n",
       "  <tbody>\n",
       "    <tr>\n",
       "      <th>0</th>\n",
       "      <td>59383</td>\n",
       "      <td>2021-08-01 00:04:37</td>\n",
       "      <td>323</td>\n",
       "      <td>217</td>\n",
       "      <td>4.60</td>\n",
       "      <td>0</td>\n",
       "      <td>80.316334</td>\n",
       "      <td>40.239252</td>\n",
       "      <td>84.515409</td>\n",
       "      <td>38.276422</td>\n",
       "      <td>7.353061</td>\n",
       "      <td>3.676530</td>\n",
       "      <td>3.324124</td>\n",
       "      <td>[51, 68, 208, 217, 293, 353, 534, 717, 773, 86...</td>\n",
       "      <td>19</td>\n",
       "    </tr>\n",
       "    <tr>\n",
       "      <th>1</th>\n",
       "      <td>59384</td>\n",
       "      <td>2021-08-01 00:12:10</td>\n",
       "      <td>6</td>\n",
       "      <td>429</td>\n",
       "      <td>8.61</td>\n",
       "      <td>0</td>\n",
       "      <td>15.172487</td>\n",
       "      <td>63.912685</td>\n",
       "      <td>11.827443</td>\n",
       "      <td>63.992102</td>\n",
       "      <td>18.618562</td>\n",
       "      <td>9.309281</td>\n",
       "      <td>3.778676</td>\n",
       "      <td>[163, 172, 205, 429, 468, 607, 750, 786, 881, ...</td>\n",
       "      <td>16</td>\n",
       "    </tr>\n",
       "    <tr>\n",
       "      <th>2</th>\n",
       "      <td>59385</td>\n",
       "      <td>2021-08-01 00:12:34</td>\n",
       "      <td>714</td>\n",
       "      <td>1011</td>\n",
       "      <td>64.00</td>\n",
       "      <td>0</td>\n",
       "      <td>74.196424</td>\n",
       "      <td>98.288079</td>\n",
       "      <td>75.221083</td>\n",
       "      <td>94.991427</td>\n",
       "      <td>82.620413</td>\n",
       "      <td>41.310207</td>\n",
       "      <td>3.723765</td>\n",
       "      <td>[58, 799, 1011, 1021, 1228, 1347, 1443, 1462, ...</td>\n",
       "      <td>13</td>\n",
       "    </tr>\n",
       "    <tr>\n",
       "      <th>3</th>\n",
       "      <td>59386</td>\n",
       "      <td>2021-08-01 00:15:40</td>\n",
       "      <td>266</td>\n",
       "      <td>1969</td>\n",
       "      <td>12.72</td>\n",
       "      <td>0</td>\n",
       "      <td>51.950635</td>\n",
       "      <td>6.563484</td>\n",
       "      <td>51.122179</td>\n",
       "      <td>8.329098</td>\n",
       "      <td>9.852171</td>\n",
       "      <td>4.926085</td>\n",
       "      <td>3.862067</td>\n",
       "      <td>[27, 493, 584, 734, 820, 917, 1108, 1363, 1444...</td>\n",
       "      <td>15</td>\n",
       "    </tr>\n",
       "    <tr>\n",
       "      <th>4</th>\n",
       "      <td>59387</td>\n",
       "      <td>2021-08-01 00:16:01</td>\n",
       "      <td>890</td>\n",
       "      <td>1482</td>\n",
       "      <td>98.88</td>\n",
       "      <td>0</td>\n",
       "      <td>62.417972</td>\n",
       "      <td>26.483666</td>\n",
       "      <td>62.777887</td>\n",
       "      <td>31.405270</td>\n",
       "      <td>83.660035</td>\n",
       "      <td>41.830018</td>\n",
       "      <td>3.128315</td>\n",
       "      <td>[154, 177, 351, 444, 633, 739, 1018, 1056, 113...</td>\n",
       "      <td>20</td>\n",
       "    </tr>\n",
       "  </tbody>\n",
       "</table>\n",
       "</div>"
      ],
      "text/plain": [
       "   transaction_id         tx_datetime  customer_id  terminal_id  tx_amount  \\\n",
       "0           59383 2021-08-01 00:04:37          323          217       4.60   \n",
       "1           59384 2021-08-01 00:12:10            6          429       8.61   \n",
       "2           59385 2021-08-01 00:12:34          714         1011      64.00   \n",
       "3           59386 2021-08-01 00:15:40          266         1969      12.72   \n",
       "4           59387 2021-08-01 00:16:01          890         1482      98.88   \n",
       "\n",
       "   tx_fraud  x_terminal_id  y_terminal_id  x_customer_id  y_customer_id  \\\n",
       "0         0      80.316334      40.239252      84.515409      38.276422   \n",
       "1         0      15.172487      63.912685      11.827443      63.992102   \n",
       "2         0      74.196424      98.288079      75.221083      94.991427   \n",
       "3         0      51.950635       6.563484      51.122179       8.329098   \n",
       "4         0      62.417972      26.483666      62.777887      31.405270   \n",
       "\n",
       "   mean_amount  std_amount  mean_nb_tx_per_day  \\\n",
       "0     7.353061    3.676530            3.324124   \n",
       "1    18.618562    9.309281            3.778676   \n",
       "2    82.620413   41.310207            3.723765   \n",
       "3     9.852171    4.926085            3.862067   \n",
       "4    83.660035   41.830018            3.128315   \n",
       "\n",
       "                                 available_terminals  nb_terminals  \n",
       "0  [51, 68, 208, 217, 293, 353, 534, 717, 773, 86...            19  \n",
       "1  [163, 172, 205, 429, 468, 607, 750, 786, 881, ...            16  \n",
       "2  [58, 799, 1011, 1021, 1228, 1347, 1443, 1462, ...            13  \n",
       "3  [27, 493, 584, 734, 820, 917, 1108, 1363, 1444...            15  \n",
       "4  [154, 177, 351, 444, 633, 739, 1018, 1056, 113...            20  "
      ]
     },
     "execution_count": 811,
     "metadata": {},
     "output_type": "execute_result"
    }
   ],
   "source": [
    "df.head()"
   ]
  },
  {
   "cell_type": "code",
   "execution_count": 812,
   "metadata": {},
   "outputs": [
    {
     "data": {
      "text/plain": [
       "<Axes: xlabel='tx_datetime'>"
      ]
     },
     "execution_count": 812,
     "metadata": {},
     "output_type": "execute_result"
    },
    {
     "data": {
      "image/png": "[encoded data removed]",
      "text/plain": [
       "<Figure size 640x480 with 1 Axes>"
      ]
     },
     "metadata": {},
     "output_type": "display_data"
    }
   ],
   "source": [
    "df.groupby(df.tx_datetime.dt.date)['transaction_id'].count().plot()"
   ]
  },
  {
   "cell_type": "code",
   "execution_count": 813,
   "metadata": {},
   "outputs": [
    {
     "data": {
      "text/plain": [
       "<seaborn.axisgrid.FacetGrid at 0x1ea21881350>"
      ]
     },
     "execution_count": 813,
     "metadata": {},
     "output_type": "execute_result"
    },
    {
     "data": {
      "image/png": "[encoded data removed]",
      "text/plain": [
       "<Figure size 500x500 with 1 Axes>"
      ]
     },
     "metadata": {},
     "output_type": "display_data"
    }
   ],
   "source": [
    "sns.displot(x='tx_amount', data=df)"
   ]
  },
  {
   "cell_type": "code",
   "execution_count": 814,
   "metadata": {},
   "outputs": [
    {
     "data": {
      "application/vnd.plotly.v1+json": {
       "config": {
        "plotlyServerURL": "https://plot.ly"
       },
       "data": [
        {
         "domain": {
          "x": [
           0,
           1
          ],
          "y": [
           0,
           1
          ]
         },
         "hovertemplate": "label=%{label}<br>value=%{value}<extra></extra>",
         "labels": [
          "Не фрод",
          "фрод"
         ],
         "legendgroup": "",
         "name": "",
         "showlegend": true,
         "type": "pie",
         "values": [
          284649,
          6582
         ]
        }
       ],
       "layout": {
        "height": 400,
        "legend": {
         "tracegroupgap": 0
        },
        "piecolorway": [
         "skyblue",
         "black"
        ],
        "template": {
         "data": {
          "bar": [
           {
            "error_x": {
             "color": "#2a3f5f"
            },
            "error_y": {
             "color": "#2a3f5f"
            },
            "marker": {
             "line": {
              "color": "#E5ECF6",
              "width": 0.5
             },
             "pattern": {
              "fillmode": "overlay",
              "size": 10,
              "solidity": 0.2
             }
            },
            "type": "bar"
           }
          ],
          "barpolar": [
           {
            "marker": {
             "line": {
              "color": "#E5ECF6",
              "width": 0.5
             },
             "pattern": {
              "fillmode": "overlay",
              "size": 10,
              "solidity": 0.2
             }
            },
            "type": "barpolar"
           }
          ],
          "carpet": [
           {
            "aaxis": {
             "endlinecolor": "#2a3f5f",
             "gridcolor": "white",
             "linecolor": "white",
             "minorgridcolor": "white",
             "startlinecolor": "#2a3f5f"
            },
            "baxis": {
             "endlinecolor": "#2a3f5f",
             "gridcolor": "white",
             "linecolor": "white",
             "minorgridcolor": "white",
             "startlinecolor": "#2a3f5f"
            },
            "type": "carpet"
           }
          ],
          "choropleth": [
           {
            "colorbar": {
             "outlinewidth": 0,
             "ticks": ""
            },
            "type": "choropleth"
           }
          ],
          "contour": [
           {
            "colorbar": {
             "outlinewidth": 0,
             "ticks": ""
            },
            "colorscale": [
             [
              0,
              "#0d0887"
             ],
             [
              0.1111111111111111,
              "#46039f"
             ],
             [
              0.2222222222222222,
              "#7201a8"
             ],
             [
              0.3333333333333333,
              "#9c179e"
             ],
             [
              0.4444444444444444,
              "#bd3786"
             ],
             [
              0.5555555555555556,
              "#d8576b"
             ],
             [
              0.6666666666666666,
              "#ed7953"
             ],
             [
              0.7777777777777778,
              "#fb9f3a"
             ],
             [
              0.8888888888888888,
              "#fdca26"
             ],
             [
              1,
              "#f0f921"
             ]
            ],
            "type": "contour"
           }
          ],
          "contourcarpet": [
           {
            "colorbar": {
             "outlinewidth": 0,
             "ticks": ""
            },
            "type": "contourcarpet"
           }
          ],
          "heatmap": [
           {
            "colorbar": {
             "outlinewidth": 0,
             "ticks": ""
            },
            "colorscale": [
             [
              0,
              "#0d0887"
             ],
             [
              0.1111111111111111,
              "#46039f"
             ],
             [
              0.2222222222222222,
              "#7201a8"
             ],
             [
              0.3333333333333333,
              "#9c179e"
             ],
             [
              0.4444444444444444,
              "#bd3786"
             ],
             [
              0.5555555555555556,
              "#d8576b"
             ],
             [
              0.6666666666666666,
              "#ed7953"
             ],
             [
              0.7777777777777778,
              "#fb9f3a"
             ],
             [
              0.8888888888888888,
              "#fdca26"
             ],
             [
              1,
              "#f0f921"
             ]
            ],
            "type": "heatmap"
           }
          ],
          "heatmapgl": [
           {
            "colorbar": {
             "outlinewidth": 0,
             "ticks": ""
            },
            "colorscale": [
             [
              0,
              "#0d0887"
             ],
             [
              0.1111111111111111,
              "#46039f"
             ],
             [
              0.2222222222222222,
              "#7201a8"
             ],
             [
              0.3333333333333333,
              "#9c179e"
             ],
             [
              0.4444444444444444,
              "#bd3786"
             ],
             [
              0.5555555555555556,
              "#d8576b"
             ],
             [
              0.6666666666666666,
              "#ed7953"
             ],
             [
              0.7777777777777778,
              "#fb9f3a"
             ],
             [
              0.8888888888888888,
              "#fdca26"
             ],
             [
              1,
              "#f0f921"
             ]
            ],
            "type": "heatmapgl"
           }
          ],
          "histogram": [
           {
            "marker": {
             "pattern": {
              "fillmode": "overlay",
              "size": 10,
              "solidity": 0.2
             }
            },
            "type": "histogram"
           }
          ],
          "histogram2d": [
           {
            "colorbar": {
             "outlinewidth": 0,
             "ticks": ""
            },
            "colorscale": [
             [
              0,
              "#0d0887"
             ],
             [
              0.1111111111111111,
              "#46039f"
             ],
             [
              0.2222222222222222,
              "#7201a8"
             ],
             [
              0.3333333333333333,
              "#9c179e"
             ],
             [
              0.4444444444444444,
              "#bd3786"
             ],
             [
              0.5555555555555556,
              "#d8576b"
             ],
             [
              0.6666666666666666,
              "#ed7953"
             ],
             [
              0.7777777777777778,
              "#fb9f3a"
             ],
             [
              0.8888888888888888,
              "#fdca26"
             ],
             [
              1,
              "#f0f921"
             ]
            ],
            "type": "histogram2d"
           }
          ],
          "histogram2dcontour": [
           {
            "colorbar": {
             "outlinewidth": 0,
             "ticks": ""
            },
            "colorscale": [
             [
              0,
              "#0d0887"
             ],
             [
              0.1111111111111111,
              "#46039f"
             ],
             [
              0.2222222222222222,
              "#7201a8"
             ],
             [
              0.3333333333333333,
              "#9c179e"
             ],
             [
              0.4444444444444444,
              "#bd3786"
             ],
             [
              0.5555555555555556,
              "#d8576b"
             ],
             [
              0.6666666666666666,
              "#ed7953"
             ],
             [
              0.7777777777777778,
              "#fb9f3a"
             ],
             [
              0.8888888888888888,
              "#fdca26"
             ],
             [
              1,
              "#f0f921"
             ]
            ],
            "type": "histogram2dcontour"
           }
          ],
          "mesh3d": [
           {
            "colorbar": {
             "outlinewidth": 0,
             "ticks": ""
            },
            "type": "mesh3d"
           }
          ],
          "parcoords": [
           {
            "line": {
             "colorbar": {
              "outlinewidth": 0,
              "ticks": ""
             }
            },
            "type": "parcoords"
           }
          ],
          "pie": [
           {
            "automargin": true,
            "type": "pie"
           }
          ],
          "scatter": [
           {
            "fillpattern": {
             "fillmode": "overlay",
             "size": 10,
             "solidity": 0.2
            },
            "type": "scatter"
           }
          ],
          "scatter3d": [
           {
            "line": {
             "colorbar": {
              "outlinewidth": 0,
              "ticks": ""
             }
            },
            "marker": {
             "colorbar": {
              "outlinewidth": 0,
              "ticks": ""
             }
            },
            "type": "scatter3d"
           }
          ],
          "scattercarpet": [
           {
            "marker": {
             "colorbar": {
              "outlinewidth": 0,
              "ticks": ""
             }
            },
            "type": "scattercarpet"
           }
          ],
          "scattergeo": [
           {
            "marker": {
             "colorbar": {
              "outlinewidth": 0,
              "ticks": ""
             }
            },
            "type": "scattergeo"
           }
          ],
          "scattergl": [
           {
            "marker": {
             "colorbar": {
              "outlinewidth": 0,
              "ticks": ""
             }
            },
            "type": "scattergl"
           }
          ],
          "scattermapbox": [
           {
            "marker": {
             "colorbar": {
              "outlinewidth": 0,
              "ticks": ""
             }
            },
            "type": "scattermapbox"
           }
          ],
          "scatterpolar": [
           {
            "marker": {
             "colorbar": {
              "outlinewidth": 0,
              "ticks": ""
             }
            },
            "type": "scatterpolar"
           }
          ],
          "scatterpolargl": [
           {
            "marker": {
             "colorbar": {
              "outlinewidth": 0,
              "ticks": ""
             }
            },
            "type": "scatterpolargl"
           }
          ],
          "scatterternary": [
           {
            "marker": {
             "colorbar": {
              "outlinewidth": 0,
              "ticks": ""
             }
            },
            "type": "scatterternary"
           }
          ],
          "surface": [
           {
            "colorbar": {
             "outlinewidth": 0,
             "ticks": ""
            },
            "colorscale": [
             [
              0,
              "#0d0887"
             ],
             [
              0.1111111111111111,
              "#46039f"
             ],
             [
              0.2222222222222222,
              "#7201a8"
             ],
             [
              0.3333333333333333,
              "#9c179e"
             ],
             [
              0.4444444444444444,
              "#bd3786"
             ],
             [
              0.5555555555555556,
              "#d8576b"
             ],
             [
              0.6666666666666666,
              "#ed7953"
             ],
             [
              0.7777777777777778,
              "#fb9f3a"
             ],
             [
              0.8888888888888888,
              "#fdca26"
             ],
             [
              1,
              "#f0f921"
             ]
            ],
            "type": "surface"
           }
          ],
          "table": [
           {
            "cells": {
             "fill": {
              "color": "#EBF0F8"
             },
             "line": {
              "color": "white"
             }
            },
            "header": {
             "fill": {
              "color": "#C8D4E3"
             },
             "line": {
              "color": "white"
             }
            },
            "type": "table"
           }
          ]
         },
         "layout": {
          "annotationdefaults": {
           "arrowcolor": "#2a3f5f",
           "arrowhead": 0,
           "arrowwidth": 1
          },
          "autotypenumbers": "strict",
          "coloraxis": {
           "colorbar": {
            "outlinewidth": 0,
            "ticks": ""
           }
          },
          "colorscale": {
           "diverging": [
            [
             0,
             "#8e0152"
            ],
            [
             0.1,
             "#c51b7d"
            ],
            [
             0.2,
             "#de77ae"
            ],
            [
             0.3,
             "#f1b6da"
            ],
            [
             0.4,
             "#fde0ef"
            ],
            [
             0.5,
             "#f7f7f7"
            ],
            [
             0.6,
             "#e6f5d0"
            ],
            [
             0.7,
             "#b8e186"
            ],
            [
             0.8,
             "#7fbc41"
            ],
            [
             0.9,
             "#4d9221"
            ],
            [
             1,
             "#276419"
            ]
           ],
           "sequential": [
            [
             0,
             "#0d0887"
            ],
            [
             0.1111111111111111,
             "#46039f"
            ],
            [
             0.2222222222222222,
             "#7201a8"
            ],
            [
             0.3333333333333333,
             "#9c179e"
            ],
            [
             0.4444444444444444,
             "#bd3786"
            ],
            [
             0.5555555555555556,
             "#d8576b"
            ],
            [
             0.6666666666666666,
             "#ed7953"
            ],
            [
             0.7777777777777778,
             "#fb9f3a"
            ],
            [
             0.8888888888888888,
             "#fdca26"
            ],
            [
             1,
             "#f0f921"
            ]
           ],
           "sequentialminus": [
            [
             0,
             "#0d0887"
            ],
            [
             0.1111111111111111,
             "#46039f"
            ],
            [
             0.2222222222222222,
             "#7201a8"
            ],
            [
             0.3333333333333333,
             "#9c179e"
            ],
            [
             0.4444444444444444,
             "#bd3786"
            ],
            [
             0.5555555555555556,
             "#d8576b"
            ],
            [
             0.6666666666666666,
             "#ed7953"
            ],
            [
             0.7777777777777778,
             "#fb9f3a"
            ],
            [
             0.8888888888888888,
             "#fdca26"
            ],
            [
             1,
             "#f0f921"
            ]
           ]
          },
          "colorway": [
           "#636efa",
           "#EF553B",
           "#00cc96",
           "#ab63fa",
           "#FFA15A",
           "#19d3f3",
           "#FF6692",
           "#B6E880",
           "#FF97FF",
           "#FECB52"
          ],
          "font": {
           "color": "#2a3f5f"
          },
          "geo": {
           "bgcolor": "white",
           "lakecolor": "white",
           "landcolor": "#E5ECF6",
           "showlakes": true,
           "showland": true,
           "subunitcolor": "white"
          },
          "hoverlabel": {
           "align": "left"
          },
          "hovermode": "closest",
          "mapbox": {
           "style": "light"
          },
          "paper_bgcolor": "white",
          "plot_bgcolor": "#E5ECF6",
          "polar": {
           "angularaxis": {
            "gridcolor": "white",
            "linecolor": "white",
            "ticks": ""
           },
           "bgcolor": "#E5ECF6",
           "radialaxis": {
            "gridcolor": "white",
            "linecolor": "white",
            "ticks": ""
           }
          },
          "scene": {
           "xaxis": {
            "backgroundcolor": "#E5ECF6",
            "gridcolor": "white",
            "gridwidth": 2,
            "linecolor": "white",
            "showbackground": true,
            "ticks": "",
            "zerolinecolor": "white"
           },
           "yaxis": {
            "backgroundcolor": "#E5ECF6",
            "gridcolor": "white",
            "gridwidth": 2,
            "linecolor": "white",
            "showbackground": true,
            "ticks": "",
            "zerolinecolor": "white"
           },
           "zaxis": {
            "backgroundcolor": "#E5ECF6",
            "gridcolor": "white",
            "gridwidth": 2,
            "linecolor": "white",
            "showbackground": true,
            "ticks": "",
            "zerolinecolor": "white"
           }
          },
          "shapedefaults": {
           "line": {
            "color": "#2a3f5f"
           }
          },
          "ternary": {
           "aaxis": {
            "gridcolor": "white",
            "linecolor": "white",
            "ticks": ""
           },
           "baxis": {
            "gridcolor": "white",
            "linecolor": "white",
            "ticks": ""
           },
           "bgcolor": "#E5ECF6",
           "caxis": {
            "gridcolor": "white",
            "linecolor": "white",
            "ticks": ""
           }
          },
          "title": {
           "x": 0.05
          },
          "xaxis": {
           "automargin": true,
           "gridcolor": "white",
           "linecolor": "white",
           "ticks": "",
           "title": {
            "standoff": 15
           },
           "zerolinecolor": "white",
           "zerolinewidth": 2
          },
          "yaxis": {
           "automargin": true,
           "gridcolor": "white",
           "linecolor": "white",
           "ticks": "",
           "title": {
            "standoff": 15
           },
           "zerolinecolor": "white",
           "zerolinewidth": 2
          }
         }
        },
        "title": {
         "text": "Фрод vs Не фрод транзакции"
        },
        "width": 700
       }
      }
     },
     "metadata": {},
     "output_type": "display_data"
    }
   ],
   "source": [
    "labels=[\"Не фрод\",\"фрод\"]\n",
    "\n",
    "fraud_or_not = df[\"tx_fraud\"].value_counts().tolist()\n",
    "values = [fraud_or_not[0], fraud_or_not[1]]\n",
    "\n",
    "fig = px.pie(values=df['tx_fraud'].value_counts(), names=labels , width=700, height=400, color_discrete_sequence=[\"skyblue\",\"black\"]\n",
    "             ,title=\"Фрод vs Не фрод транзакции\")\n",
    "fig.show()"
   ]
  },
  {
   "cell_type": "code",
   "execution_count": 815,
   "metadata": {},
   "outputs": [
    {
     "name": "stderr",
     "output_type": "stream",
     "text": [
      "C:\\Users\\PC\\AppData\\Local\\Temp\\ipykernel_14096\\45890067.py:2: FutureWarning:\n",
      "\n",
      "\n",
      "\n",
      "Passing `palette` without assigning `hue` is deprecated and will be removed in v0.14.0. Assign the `x` variable to `hue` and set `legend=False` for the same effect.\n",
      "\n",
      "\n"
     ]
    },
    {
     "data": {
      "image/png": "[encoded data removed]",
      "text/plain": [
       "<Figure size 300x400 with 1 Axes>"
      ]
     },
     "metadata": {},
     "output_type": "display_data"
    }
   ],
   "source": [
    "plt.figure(figsize=(3,4))\n",
    "ax = sns.countplot(x='tx_fraud',data=df,palette=\"pastel\")\n",
    "for i in ax.containers:\n",
    "    ax.bar_label(i,)"
   ]
  },
  {
   "cell_type": "code",
   "execution_count": 816,
   "metadata": {},
   "outputs": [
    {
     "data": {
      "text/html": [
       "<div>\n",
       "<style scoped>\n",
       "    .dataframe tbody tr th:only-of-type {\n",
       "        vertical-align: middle;\n",
       "    }\n",
       "\n",
       "    .dataframe tbody tr th {\n",
       "        vertical-align: top;\n",
       "    }\n",
       "\n",
       "    .dataframe thead th {\n",
       "        text-align: right;\n",
       "    }\n",
       "</style>\n",
       "<table border=\"1\" class=\"dataframe\">\n",
       "  <thead>\n",
       "    <tr style=\"text-align: right;\">\n",
       "      <th></th>\n",
       "      <th>transaction_id</th>\n",
       "      <th>tx_datetime</th>\n",
       "      <th>customer_id</th>\n",
       "      <th>terminal_id</th>\n",
       "      <th>tx_amount</th>\n",
       "      <th>tx_fraud</th>\n",
       "      <th>x_terminal_id</th>\n",
       "      <th>y_terminal_id</th>\n",
       "      <th>x_customer_id</th>\n",
       "      <th>y_customer_id</th>\n",
       "      <th>mean_amount</th>\n",
       "      <th>std_amount</th>\n",
       "      <th>mean_nb_tx_per_day</th>\n",
       "      <th>available_terminals</th>\n",
       "      <th>nb_terminals</th>\n",
       "      <th>amount_above_mean</th>\n",
       "      <th>deviation_std</th>\n",
       "    </tr>\n",
       "  </thead>\n",
       "  <tbody>\n",
       "    <tr>\n",
       "      <th>0</th>\n",
       "      <td>59383</td>\n",
       "      <td>2021-08-01 00:04:37</td>\n",
       "      <td>323</td>\n",
       "      <td>217</td>\n",
       "      <td>4.60</td>\n",
       "      <td>0</td>\n",
       "      <td>80.316334</td>\n",
       "      <td>40.239252</td>\n",
       "      <td>84.515409</td>\n",
       "      <td>38.276422</td>\n",
       "      <td>7.353061</td>\n",
       "      <td>3.676530</td>\n",
       "      <td>3.324124</td>\n",
       "      <td>[51, 68, 208, 217, 293, 353, 534, 717, 773, 86...</td>\n",
       "      <td>19</td>\n",
       "      <td>-2.753061</td>\n",
       "      <td>-0.74882</td>\n",
       "    </tr>\n",
       "    <tr>\n",
       "      <th>1</th>\n",
       "      <td>59384</td>\n",
       "      <td>2021-08-01 00:12:10</td>\n",
       "      <td>6</td>\n",
       "      <td>429</td>\n",
       "      <td>8.61</td>\n",
       "      <td>0</td>\n",
       "      <td>15.172487</td>\n",
       "      <td>63.912685</td>\n",
       "      <td>11.827443</td>\n",
       "      <td>63.992102</td>\n",
       "      <td>18.618562</td>\n",
       "      <td>9.309281</td>\n",
       "      <td>3.778676</td>\n",
       "      <td>[163, 172, 205, 429, 468, 607, 750, 786, 881, ...</td>\n",
       "      <td>16</td>\n",
       "      <td>-10.008562</td>\n",
       "      <td>-1.07512</td>\n",
       "    </tr>\n",
       "    <tr>\n",
       "      <th>2</th>\n",
       "      <td>59385</td>\n",
       "      <td>2021-08-01 00:12:34</td>\n",
       "      <td>714</td>\n",
       "      <td>1011</td>\n",
       "      <td>64.00</td>\n",
       "      <td>0</td>\n",
       "      <td>74.196424</td>\n",
       "      <td>98.288079</td>\n",
       "      <td>75.221083</td>\n",
       "      <td>94.991427</td>\n",
       "      <td>82.620413</td>\n",
       "      <td>41.310207</td>\n",
       "      <td>3.723765</td>\n",
       "      <td>[58, 799, 1011, 1021, 1228, 1347, 1443, 1462, ...</td>\n",
       "      <td>13</td>\n",
       "      <td>-18.620413</td>\n",
       "      <td>-0.45075</td>\n",
       "    </tr>\n",
       "    <tr>\n",
       "      <th>3</th>\n",
       "      <td>59386</td>\n",
       "      <td>2021-08-01 00:15:40</td>\n",
       "      <td>266</td>\n",
       "      <td>1969</td>\n",
       "      <td>12.72</td>\n",
       "      <td>0</td>\n",
       "      <td>51.950635</td>\n",
       "      <td>6.563484</td>\n",
       "      <td>51.122179</td>\n",
       "      <td>8.329098</td>\n",
       "      <td>9.852171</td>\n",
       "      <td>4.926085</td>\n",
       "      <td>3.862067</td>\n",
       "      <td>[27, 493, 584, 734, 820, 917, 1108, 1363, 1444...</td>\n",
       "      <td>15</td>\n",
       "      <td>2.867829</td>\n",
       "      <td>0.58217</td>\n",
       "    </tr>\n",
       "    <tr>\n",
       "      <th>4</th>\n",
       "      <td>59387</td>\n",
       "      <td>2021-08-01 00:16:01</td>\n",
       "      <td>890</td>\n",
       "      <td>1482</td>\n",
       "      <td>98.88</td>\n",
       "      <td>0</td>\n",
       "      <td>62.417972</td>\n",
       "      <td>26.483666</td>\n",
       "      <td>62.777887</td>\n",
       "      <td>31.405270</td>\n",
       "      <td>83.660035</td>\n",
       "      <td>41.830018</td>\n",
       "      <td>3.128315</td>\n",
       "      <td>[154, 177, 351, 444, 633, 739, 1018, 1056, 113...</td>\n",
       "      <td>20</td>\n",
       "      <td>15.219965</td>\n",
       "      <td>0.36385</td>\n",
       "    </tr>\n",
       "  </tbody>\n",
       "</table>\n",
       "</div>"
      ],
      "text/plain": [
       "   transaction_id         tx_datetime  customer_id  terminal_id  tx_amount  \\\n",
       "0           59383 2021-08-01 00:04:37          323          217       4.60   \n",
       "1           59384 2021-08-01 00:12:10            6          429       8.61   \n",
       "2           59385 2021-08-01 00:12:34          714         1011      64.00   \n",
       "3           59386 2021-08-01 00:15:40          266         1969      12.72   \n",
       "4           59387 2021-08-01 00:16:01          890         1482      98.88   \n",
       "\n",
       "   tx_fraud  x_terminal_id  y_terminal_id  x_customer_id  y_customer_id  \\\n",
       "0         0      80.316334      40.239252      84.515409      38.276422   \n",
       "1         0      15.172487      63.912685      11.827443      63.992102   \n",
       "2         0      74.196424      98.288079      75.221083      94.991427   \n",
       "3         0      51.950635       6.563484      51.122179       8.329098   \n",
       "4         0      62.417972      26.483666      62.777887      31.405270   \n",
       "\n",
       "   mean_amount  std_amount  mean_nb_tx_per_day  \\\n",
       "0     7.353061    3.676530            3.324124   \n",
       "1    18.618562    9.309281            3.778676   \n",
       "2    82.620413   41.310207            3.723765   \n",
       "3     9.852171    4.926085            3.862067   \n",
       "4    83.660035   41.830018            3.128315   \n",
       "\n",
       "                                 available_terminals  nb_terminals  \\\n",
       "0  [51, 68, 208, 217, 293, 353, 534, 717, 773, 86...            19   \n",
       "1  [163, 172, 205, 429, 468, 607, 750, 786, 881, ...            16   \n",
       "2  [58, 799, 1011, 1021, 1228, 1347, 1443, 1462, ...            13   \n",
       "3  [27, 493, 584, 734, 820, 917, 1108, 1363, 1444...            15   \n",
       "4  [154, 177, 351, 444, 633, 739, 1018, 1056, 113...            20   \n",
       "\n",
       "   amount_above_mean  deviation_std  \n",
       "0          -2.753061       -0.74882  \n",
       "1         -10.008562       -1.07512  \n",
       "2         -18.620413       -0.45075  \n",
       "3           2.867829        0.58217  \n",
       "4          15.219965        0.36385  "
      ]
     },
     "execution_count": 816,
     "metadata": {},
     "output_type": "execute_result"
    }
   ],
   "source": [
    "df['amount_above_mean'] = df['tx_amount'] - df['mean_amount'] \n",
    "df['deviation_std'] = round((df['tx_amount'] - df['mean_amount']) / df['std_amount'], 5)\n",
    "df.head()"
   ]
  },
  {
   "cell_type": "code",
   "execution_count": 817,
   "metadata": {},
   "outputs": [
    {
     "data": {
      "image/png": "[encoded data removed]",
      "text/plain": [
       "<Figure size 1200x400 with 2 Axes>"
      ]
     },
     "metadata": {},
     "output_type": "display_data"
    }
   ],
   "source": [
    "fig, axs = plt.subplots(nrows=1, ncols=2, figsize=(12, 4), sharex=True, sharey=False)\n",
    "\n",
    "sns.histplot(x='deviation_std', alpha=0.5, data=df.query('tx_fraud == 0'), ax=axs[0])\n",
    "sns.histplot(x='deviation_std', alpha=0.5, data=df.query('tx_fraud == 1'), ax=axs[1]);\n",
    "plt.suptitle('Фрод и не фрод отклонения от средних транзакций\\n');"
   ]
  },
  {
   "cell_type": "code",
   "execution_count": 818,
   "metadata": {},
   "outputs": [],
   "source": [
    "df['deviation_big'] = (df['deviation_std'] > 1.96).astype(int)"
   ]
  },
  {
   "cell_type": "code",
   "execution_count": 819,
   "metadata": {},
   "outputs": [
    {
     "data": {
      "text/html": [
       "<div>\n",
       "<style scoped>\n",
       "    .dataframe tbody tr th:only-of-type {\n",
       "        vertical-align: middle;\n",
       "    }\n",
       "\n",
       "    .dataframe tbody tr th {\n",
       "        vertical-align: top;\n",
       "    }\n",
       "\n",
       "    .dataframe thead th {\n",
       "        text-align: right;\n",
       "    }\n",
       "</style>\n",
       "<table border=\"1\" class=\"dataframe\">\n",
       "  <thead>\n",
       "    <tr style=\"text-align: right;\">\n",
       "      <th></th>\n",
       "      <th>transaction_id</th>\n",
       "      <th>tx_datetime</th>\n",
       "      <th>customer_id</th>\n",
       "      <th>terminal_id</th>\n",
       "      <th>tx_amount</th>\n",
       "      <th>tx_fraud</th>\n",
       "      <th>x_terminal_id</th>\n",
       "      <th>y_terminal_id</th>\n",
       "      <th>x_customer_id</th>\n",
       "      <th>y_customer_id</th>\n",
       "      <th>mean_amount</th>\n",
       "      <th>std_amount</th>\n",
       "      <th>mean_nb_tx_per_day</th>\n",
       "      <th>available_terminals</th>\n",
       "      <th>nb_terminals</th>\n",
       "      <th>amount_above_mean</th>\n",
       "      <th>deviation_std</th>\n",
       "      <th>deviation_big</th>\n",
       "      <th>hour</th>\n",
       "      <th>day_of_week</th>\n",
       "    </tr>\n",
       "  </thead>\n",
       "  <tbody>\n",
       "    <tr>\n",
       "      <th>0</th>\n",
       "      <td>59383</td>\n",
       "      <td>2021-08-01 00:04:37</td>\n",
       "      <td>323</td>\n",
       "      <td>217</td>\n",
       "      <td>4.60</td>\n",
       "      <td>0</td>\n",
       "      <td>80.316334</td>\n",
       "      <td>40.239252</td>\n",
       "      <td>84.515409</td>\n",
       "      <td>38.276422</td>\n",
       "      <td>7.353061</td>\n",
       "      <td>3.676530</td>\n",
       "      <td>3.324124</td>\n",
       "      <td>[51, 68, 208, 217, 293, 353, 534, 717, 773, 86...</td>\n",
       "      <td>19</td>\n",
       "      <td>-2.753061</td>\n",
       "      <td>-0.74882</td>\n",
       "      <td>0</td>\n",
       "      <td>0</td>\n",
       "      <td>6</td>\n",
       "    </tr>\n",
       "    <tr>\n",
       "      <th>1</th>\n",
       "      <td>59384</td>\n",
       "      <td>2021-08-01 00:12:10</td>\n",
       "      <td>6</td>\n",
       "      <td>429</td>\n",
       "      <td>8.61</td>\n",
       "      <td>0</td>\n",
       "      <td>15.172487</td>\n",
       "      <td>63.912685</td>\n",
       "      <td>11.827443</td>\n",
       "      <td>63.992102</td>\n",
       "      <td>18.618562</td>\n",
       "      <td>9.309281</td>\n",
       "      <td>3.778676</td>\n",
       "      <td>[163, 172, 205, 429, 468, 607, 750, 786, 881, ...</td>\n",
       "      <td>16</td>\n",
       "      <td>-10.008562</td>\n",
       "      <td>-1.07512</td>\n",
       "      <td>0</td>\n",
       "      <td>0</td>\n",
       "      <td>6</td>\n",
       "    </tr>\n",
       "    <tr>\n",
       "      <th>2</th>\n",
       "      <td>59385</td>\n",
       "      <td>2021-08-01 00:12:34</td>\n",
       "      <td>714</td>\n",
       "      <td>1011</td>\n",
       "      <td>64.00</td>\n",
       "      <td>0</td>\n",
       "      <td>74.196424</td>\n",
       "      <td>98.288079</td>\n",
       "      <td>75.221083</td>\n",
       "      <td>94.991427</td>\n",
       "      <td>82.620413</td>\n",
       "      <td>41.310207</td>\n",
       "      <td>3.723765</td>\n",
       "      <td>[58, 799, 1011, 1021, 1228, 1347, 1443, 1462, ...</td>\n",
       "      <td>13</td>\n",
       "      <td>-18.620413</td>\n",
       "      <td>-0.45075</td>\n",
       "      <td>0</td>\n",
       "      <td>0</td>\n",
       "      <td>6</td>\n",
       "    </tr>\n",
       "    <tr>\n",
       "      <th>3</th>\n",
       "      <td>59386</td>\n",
       "      <td>2021-08-01 00:15:40</td>\n",
       "      <td>266</td>\n",
       "      <td>1969</td>\n",
       "      <td>12.72</td>\n",
       "      <td>0</td>\n",
       "      <td>51.950635</td>\n",
       "      <td>6.563484</td>\n",
       "      <td>51.122179</td>\n",
       "      <td>8.329098</td>\n",
       "      <td>9.852171</td>\n",
       "      <td>4.926085</td>\n",
       "      <td>3.862067</td>\n",
       "      <td>[27, 493, 584, 734, 820, 917, 1108, 1363, 1444...</td>\n",
       "      <td>15</td>\n",
       "      <td>2.867829</td>\n",
       "      <td>0.58217</td>\n",
       "      <td>0</td>\n",
       "      <td>0</td>\n",
       "      <td>6</td>\n",
       "    </tr>\n",
       "    <tr>\n",
       "      <th>4</th>\n",
       "      <td>59387</td>\n",
       "      <td>2021-08-01 00:16:01</td>\n",
       "      <td>890</td>\n",
       "      <td>1482</td>\n",
       "      <td>98.88</td>\n",
       "      <td>0</td>\n",
       "      <td>62.417972</td>\n",
       "      <td>26.483666</td>\n",
       "      <td>62.777887</td>\n",
       "      <td>31.405270</td>\n",
       "      <td>83.660035</td>\n",
       "      <td>41.830018</td>\n",
       "      <td>3.128315</td>\n",
       "      <td>[154, 177, 351, 444, 633, 739, 1018, 1056, 113...</td>\n",
       "      <td>20</td>\n",
       "      <td>15.219965</td>\n",
       "      <td>0.36385</td>\n",
       "      <td>0</td>\n",
       "      <td>0</td>\n",
       "      <td>6</td>\n",
       "    </tr>\n",
       "  </tbody>\n",
       "</table>\n",
       "</div>"
      ],
      "text/plain": [
       "   transaction_id         tx_datetime  customer_id  terminal_id  tx_amount  \\\n",
       "0           59383 2021-08-01 00:04:37          323          217       4.60   \n",
       "1           59384 2021-08-01 00:12:10            6          429       8.61   \n",
       "2           59385 2021-08-01 00:12:34          714         1011      64.00   \n",
       "3           59386 2021-08-01 00:15:40          266         1969      12.72   \n",
       "4           59387 2021-08-01 00:16:01          890         1482      98.88   \n",
       "\n",
       "   tx_fraud  x_terminal_id  y_terminal_id  x_customer_id  y_customer_id  \\\n",
       "0         0      80.316334      40.239252      84.515409      38.276422   \n",
       "1         0      15.172487      63.912685      11.827443      63.992102   \n",
       "2         0      74.196424      98.288079      75.221083      94.991427   \n",
       "3         0      51.950635       6.563484      51.122179       8.329098   \n",
       "4         0      62.417972      26.483666      62.777887      31.405270   \n",
       "\n",
       "   mean_amount  std_amount  mean_nb_tx_per_day  \\\n",
       "0     7.353061    3.676530            3.324124   \n",
       "1    18.618562    9.309281            3.778676   \n",
       "2    82.620413   41.310207            3.723765   \n",
       "3     9.852171    4.926085            3.862067   \n",
       "4    83.660035   41.830018            3.128315   \n",
       "\n",
       "                                 available_terminals  nb_terminals  \\\n",
       "0  [51, 68, 208, 217, 293, 353, 534, 717, 773, 86...            19   \n",
       "1  [163, 172, 205, 429, 468, 607, 750, 786, 881, ...            16   \n",
       "2  [58, 799, 1011, 1021, 1228, 1347, 1443, 1462, ...            13   \n",
       "3  [27, 493, 584, 734, 820, 917, 1108, 1363, 1444...            15   \n",
       "4  [154, 177, 351, 444, 633, 739, 1018, 1056, 113...            20   \n",
       "\n",
       "   amount_above_mean  deviation_std  deviation_big  hour  day_of_week  \n",
       "0          -2.753061       -0.74882              0     0            6  \n",
       "1         -10.008562       -1.07512              0     0            6  \n",
       "2         -18.620413       -0.45075              0     0            6  \n",
       "3           2.867829        0.58217              0     0            6  \n",
       "4          15.219965        0.36385              0     0            6  "
      ]
     },
     "execution_count": 819,
     "metadata": {},
     "output_type": "execute_result"
    }
   ],
   "source": [
    "df['hour'] = df['tx_datetime'].dt.hour\n",
    "df['day_of_week'] = df['tx_datetime'].dt.day_of_week\n",
    "df.head()"
   ]
  },
  {
   "cell_type": "code",
   "execution_count": 820,
   "metadata": {},
   "outputs": [
    {
     "name": "stderr",
     "output_type": "stream",
     "text": [
      "c:\\Users\\PC\\AppData\\Local\\Programs\\Python\\Python311\\Lib\\site-packages\\pandas\\core\\arraylike.py:396: RuntimeWarning:\n",
      "\n",
      "divide by zero encountered in log\n",
      "\n"
     ]
    }
   ],
   "source": [
    "df['log_amount'] = round(np.log(df['tx_amount']),5)"
   ]
  },
  {
   "cell_type": "code",
   "execution_count": 821,
   "metadata": {},
   "outputs": [],
   "source": [
    "df = df.sort_values(by=['customer_id', 'tx_datetime'])\n",
    "df['minutes_since_last_tx'] = df.groupby('customer_id')['tx_datetime'].diff().apply(lambda x: x.seconds/60).round()\n",
    "df['minutes_since_last_tx'] = df['minutes_since_last_tx'].fillna(method='bfill')"
   ]
  },
  {
   "cell_type": "code",
   "execution_count": 822,
   "metadata": {},
   "outputs": [
    {
     "data": {
      "text/plain": [
       "Index(['transaction_id', 'tx_datetime', 'customer_id', 'terminal_id',\n",
       "       'tx_amount', 'tx_fraud', 'x_terminal_id', 'y_terminal_id',\n",
       "       'x_customer_id', 'y_customer_id', 'mean_amount', 'std_amount',\n",
       "       'mean_nb_tx_per_day', 'available_terminals', 'nb_terminals',\n",
       "       'amount_above_mean', 'deviation_std', 'deviation_big', 'hour',\n",
       "       'day_of_week', 'log_amount', 'minutes_since_last_tx'],\n",
       "      dtype='object')"
      ]
     },
     "execution_count": 822,
     "metadata": {},
     "output_type": "execute_result"
    }
   ],
   "source": [
    "df.columns"
   ]
  },
  {
   "cell_type": "code",
   "execution_count": 823,
   "metadata": {},
   "outputs": [
    {
     "data": {
      "text/html": [
       "<div>\n",
       "<style scoped>\n",
       "    .dataframe tbody tr th:only-of-type {\n",
       "        vertical-align: middle;\n",
       "    }\n",
       "\n",
       "    .dataframe tbody tr th {\n",
       "        vertical-align: top;\n",
       "    }\n",
       "\n",
       "    .dataframe thead th {\n",
       "        text-align: right;\n",
       "    }\n",
       "</style>\n",
       "<table border=\"1\" class=\"dataframe\">\n",
       "  <thead>\n",
       "    <tr style=\"text-align: right;\">\n",
       "      <th></th>\n",
       "      <th>transaction_id</th>\n",
       "      <th>tx_datetime</th>\n",
       "      <th>customer_id</th>\n",
       "      <th>terminal_id</th>\n",
       "      <th>tx_amount</th>\n",
       "      <th>tx_fraud</th>\n",
       "      <th>x_terminal_id</th>\n",
       "      <th>y_terminal_id</th>\n",
       "      <th>x_customer_id</th>\n",
       "      <th>y_customer_id</th>\n",
       "      <th>...</th>\n",
       "      <th>mean_nb_tx_per_day</th>\n",
       "      <th>available_terminals</th>\n",
       "      <th>nb_terminals</th>\n",
       "      <th>amount_above_mean</th>\n",
       "      <th>deviation_std</th>\n",
       "      <th>deviation_big</th>\n",
       "      <th>hour</th>\n",
       "      <th>day_of_week</th>\n",
       "      <th>log_amount</th>\n",
       "      <th>minutes_since_last_tx</th>\n",
       "    </tr>\n",
       "  </thead>\n",
       "  <tbody>\n",
       "    <tr>\n",
       "      <th>69</th>\n",
       "      <td>59452</td>\n",
       "      <td>2021-08-01 03:01:00</td>\n",
       "      <td>0</td>\n",
       "      <td>1133</td>\n",
       "      <td>61.51</td>\n",
       "      <td>0</td>\n",
       "      <td>52.165931</td>\n",
       "      <td>71.231220</td>\n",
       "      <td>54.88135</td>\n",
       "      <td>71.518937</td>\n",
       "      <td>...</td>\n",
       "      <td>2.179533</td>\n",
       "      <td>[29, 87, 144, 241, 330, 858, 996, 1028, 1067, ...</td>\n",
       "      <td>22</td>\n",
       "      <td>-0.752521</td>\n",
       "      <td>-0.02417</td>\n",
       "      <td>0</td>\n",
       "      <td>3</td>\n",
       "      <td>6</td>\n",
       "      <td>4.11920</td>\n",
       "      <td>150.0</td>\n",
       "    </tr>\n",
       "    <tr>\n",
       "      <th>209</th>\n",
       "      <td>59592</td>\n",
       "      <td>2021-08-01 05:30:38</td>\n",
       "      <td>0</td>\n",
       "      <td>1138</td>\n",
       "      <td>129.61</td>\n",
       "      <td>0</td>\n",
       "      <td>52.690535</td>\n",
       "      <td>75.386907</td>\n",
       "      <td>54.88135</td>\n",
       "      <td>71.518937</td>\n",
       "      <td>...</td>\n",
       "      <td>2.179533</td>\n",
       "      <td>[29, 87, 144, 241, 330, 858, 996, 1028, 1067, ...</td>\n",
       "      <td>22</td>\n",
       "      <td>67.347479</td>\n",
       "      <td>2.16334</td>\n",
       "      <td>1</td>\n",
       "      <td>5</td>\n",
       "      <td>6</td>\n",
       "      <td>4.86453</td>\n",
       "      <td>150.0</td>\n",
       "    </tr>\n",
       "    <tr>\n",
       "      <th>749</th>\n",
       "      <td>60132</td>\n",
       "      <td>2021-08-01 10:40:12</td>\n",
       "      <td>0</td>\n",
       "      <td>1530</td>\n",
       "      <td>96.50</td>\n",
       "      <td>0</td>\n",
       "      <td>50.098401</td>\n",
       "      <td>72.962338</td>\n",
       "      <td>54.88135</td>\n",
       "      <td>71.518937</td>\n",
       "      <td>...</td>\n",
       "      <td>2.179533</td>\n",
       "      <td>[29, 87, 144, 241, 330, 858, 996, 1028, 1067, ...</td>\n",
       "      <td>22</td>\n",
       "      <td>34.237479</td>\n",
       "      <td>1.09978</td>\n",
       "      <td>0</td>\n",
       "      <td>10</td>\n",
       "      <td>6</td>\n",
       "      <td>4.56954</td>\n",
       "      <td>310.0</td>\n",
       "    </tr>\n",
       "    <tr>\n",
       "      <th>1338</th>\n",
       "      <td>60721</td>\n",
       "      <td>2021-08-01 15:38:25</td>\n",
       "      <td>0</td>\n",
       "      <td>241</td>\n",
       "      <td>82.19</td>\n",
       "      <td>0</td>\n",
       "      <td>55.851655</td>\n",
       "      <td>69.022787</td>\n",
       "      <td>54.88135</td>\n",
       "      <td>71.518937</td>\n",
       "      <td>...</td>\n",
       "      <td>2.179533</td>\n",
       "      <td>[29, 87, 144, 241, 330, 858, 996, 1028, 1067, ...</td>\n",
       "      <td>22</td>\n",
       "      <td>19.927479</td>\n",
       "      <td>0.64011</td>\n",
       "      <td>0</td>\n",
       "      <td>15</td>\n",
       "      <td>6</td>\n",
       "      <td>4.40903</td>\n",
       "      <td>298.0</td>\n",
       "    </tr>\n",
       "    <tr>\n",
       "      <th>1650</th>\n",
       "      <td>61033</td>\n",
       "      <td>2021-08-01 19:25:30</td>\n",
       "      <td>0</td>\n",
       "      <td>1536</td>\n",
       "      <td>50.77</td>\n",
       "      <td>0</td>\n",
       "      <td>55.782899</td>\n",
       "      <td>71.228100</td>\n",
       "      <td>54.88135</td>\n",
       "      <td>71.518937</td>\n",
       "      <td>...</td>\n",
       "      <td>2.179533</td>\n",
       "      <td>[29, 87, 144, 241, 330, 858, 996, 1028, 1067, ...</td>\n",
       "      <td>22</td>\n",
       "      <td>-11.492521</td>\n",
       "      <td>-0.36916</td>\n",
       "      <td>0</td>\n",
       "      <td>19</td>\n",
       "      <td>6</td>\n",
       "      <td>3.92731</td>\n",
       "      <td>227.0</td>\n",
       "    </tr>\n",
       "  </tbody>\n",
       "</table>\n",
       "<p>5 rows × 22 columns</p>\n",
       "</div>"
      ],
      "text/plain": [
       "      transaction_id         tx_datetime  customer_id  terminal_id  tx_amount  \\\n",
       "69             59452 2021-08-01 03:01:00            0         1133      61.51   \n",
       "209            59592 2021-08-01 05:30:38            0         1138     129.61   \n",
       "749            60132 2021-08-01 10:40:12            0         1530      96.50   \n",
       "1338           60721 2021-08-01 15:38:25            0          241      82.19   \n",
       "1650           61033 2021-08-01 19:25:30            0         1536      50.77   \n",
       "\n",
       "      tx_fraud  x_terminal_id  y_terminal_id  x_customer_id  y_customer_id  \\\n",
       "69           0      52.165931      71.231220       54.88135      71.518937   \n",
       "209          0      52.690535      75.386907       54.88135      71.518937   \n",
       "749          0      50.098401      72.962338       54.88135      71.518937   \n",
       "1338         0      55.851655      69.022787       54.88135      71.518937   \n",
       "1650         0      55.782899      71.228100       54.88135      71.518937   \n",
       "\n",
       "      ...  mean_nb_tx_per_day  \\\n",
       "69    ...            2.179533   \n",
       "209   ...            2.179533   \n",
       "749   ...            2.179533   \n",
       "1338  ...            2.179533   \n",
       "1650  ...            2.179533   \n",
       "\n",
       "                                    available_terminals  nb_terminals  \\\n",
       "69    [29, 87, 144, 241, 330, 858, 996, 1028, 1067, ...            22   \n",
       "209   [29, 87, 144, 241, 330, 858, 996, 1028, 1067, ...            22   \n",
       "749   [29, 87, 144, 241, 330, 858, 996, 1028, 1067, ...            22   \n",
       "1338  [29, 87, 144, 241, 330, 858, 996, 1028, 1067, ...            22   \n",
       "1650  [29, 87, 144, 241, 330, 858, 996, 1028, 1067, ...            22   \n",
       "\n",
       "     amount_above_mean  deviation_std  deviation_big  hour  day_of_week  \\\n",
       "69           -0.752521       -0.02417              0     3            6   \n",
       "209          67.347479        2.16334              1     5            6   \n",
       "749          34.237479        1.09978              0    10            6   \n",
       "1338         19.927479        0.64011              0    15            6   \n",
       "1650        -11.492521       -0.36916              0    19            6   \n",
       "\n",
       "      log_amount  minutes_since_last_tx  \n",
       "69       4.11920                  150.0  \n",
       "209      4.86453                  150.0  \n",
       "749      4.56954                  310.0  \n",
       "1338     4.40903                  298.0  \n",
       "1650     3.92731                  227.0  \n",
       "\n",
       "[5 rows x 22 columns]"
      ]
     },
     "execution_count": 823,
     "metadata": {},
     "output_type": "execute_result"
    }
   ],
   "source": [
    "df.head()"
   ]
  },
  {
   "cell_type": "code",
   "execution_count": 824,
   "metadata": {},
   "outputs": [],
   "source": [
    "allLat  = list(df['y_customer_id']) + list(df['y_terminal_id'])\n",
    "medianLat  = sorted(allLat)[int(len(allLat)/2)]\n",
    "latMultiplier  = 111.32\n",
    "\n",
    "df['y_customer_id']   = latMultiplier  * (df['y_customer_id']   - medianLat)\n",
    "df['y_terminal_id']   = latMultiplier  * (df['y_terminal_id']  - medianLat)\n",
    "allLong = list(df['x_customer_id']) + list(df['x_terminal_id'])\n",
    "\n",
    "medianLong  = sorted(allLong)[int(len(allLong)/2)]\n",
    "\n",
    "longMultiplier = np.cos(medianLat*(np.pi/180.0)) * 111.32\n",
    "### Your code is here\n",
    "\n",
    "df['x_customer_id']  = longMultiplier * (df['x_customer_id']  - medianLong)\n",
    "df['x_terminal_id']  = longMultiplier * (df['x_terminal_id'] - medianLong)\n",
    "\n",
    "df.head(5)\n",
    "### Your code is here\n",
    "\n",
    "df['long_diff'] = df['x_terminal_id'] - df['x_customer_id']\n",
    "df['lat_diff'] = df['y_terminal_id'] - df['y_customer_id']\n",
    "\n",
    "df['distance_km'] = round((df['long_diff']**2 + df['lat_diff']**2)**(1/2), 2)\n",
    "\n",
    "df = df.drop(['long_diff', 'lat_diff'], axis=1)"
   ]
  },
  {
   "cell_type": "code",
   "execution_count": 825,
   "metadata": {},
   "outputs": [],
   "source": [
    "df['terminal_in_available'] = df.apply(lambda row: int(row['terminal_id'] in row['available_terminals'].replace('[', '').replace(']', '').split(',')), axis=1)\n"
   ]
  },
  {
   "cell_type": "code",
   "execution_count": 826,
   "metadata": {},
   "outputs": [
    {
     "data": {
      "text/plain": [
       "0"
      ]
     },
     "execution_count": 826,
     "metadata": {},
     "output_type": "execute_result"
    }
   ],
   "source": [
    "df['terminal_in_available'].max()"
   ]
  },
  {
   "cell_type": "code",
   "execution_count": 827,
   "metadata": {},
   "outputs": [],
   "source": [
    "df = df.drop(['transaction_id', 'terminal_id', 'terminal_id', 'tx_datetime', 'customer_id','x_terminal_id', 'y_terminal_id', 'x_customer_id', 'y_customer_id', 'terminal_in_available', 'available_terminals'], axis=1)"
   ]
  },
  {
   "cell_type": "code",
   "execution_count": 828,
   "metadata": {},
   "outputs": [
    {
     "data": {
      "text/html": [
       "<div>\n",
       "<style scoped>\n",
       "    .dataframe tbody tr th:only-of-type {\n",
       "        vertical-align: middle;\n",
       "    }\n",
       "\n",
       "    .dataframe tbody tr th {\n",
       "        vertical-align: top;\n",
       "    }\n",
       "\n",
       "    .dataframe thead th {\n",
       "        text-align: right;\n",
       "    }\n",
       "</style>\n",
       "<table border=\"1\" class=\"dataframe\">\n",
       "  <thead>\n",
       "    <tr style=\"text-align: right;\">\n",
       "      <th></th>\n",
       "      <th>tx_amount</th>\n",
       "      <th>tx_fraud</th>\n",
       "      <th>mean_amount</th>\n",
       "      <th>std_amount</th>\n",
       "      <th>mean_nb_tx_per_day</th>\n",
       "      <th>nb_terminals</th>\n",
       "      <th>amount_above_mean</th>\n",
       "      <th>deviation_std</th>\n",
       "      <th>deviation_big</th>\n",
       "      <th>hour</th>\n",
       "      <th>day_of_week</th>\n",
       "      <th>log_amount</th>\n",
       "      <th>minutes_since_last_tx</th>\n",
       "      <th>distance_km</th>\n",
       "    </tr>\n",
       "  </thead>\n",
       "  <tbody>\n",
       "    <tr>\n",
       "      <th>69</th>\n",
       "      <td>61.51</td>\n",
       "      <td>0</td>\n",
       "      <td>62.262521</td>\n",
       "      <td>31.13126</td>\n",
       "      <td>2.179533</td>\n",
       "      <td>22</td>\n",
       "      <td>-0.752521</td>\n",
       "      <td>-0.02417</td>\n",
       "      <td>0</td>\n",
       "      <td>3</td>\n",
       "      <td>6</td>\n",
       "      <td>4.11920</td>\n",
       "      <td>150.0</td>\n",
       "      <td>200.59</td>\n",
       "    </tr>\n",
       "    <tr>\n",
       "      <th>209</th>\n",
       "      <td>129.61</td>\n",
       "      <td>0</td>\n",
       "      <td>62.262521</td>\n",
       "      <td>31.13126</td>\n",
       "      <td>2.179533</td>\n",
       "      <td>22</td>\n",
       "      <td>67.347479</td>\n",
       "      <td>2.16334</td>\n",
       "      <td>1</td>\n",
       "      <td>5</td>\n",
       "      <td>6</td>\n",
       "      <td>4.86453</td>\n",
       "      <td>150.0</td>\n",
       "      <td>459.27</td>\n",
       "    </tr>\n",
       "    <tr>\n",
       "      <th>749</th>\n",
       "      <td>96.50</td>\n",
       "      <td>0</td>\n",
       "      <td>62.262521</td>\n",
       "      <td>31.13126</td>\n",
       "      <td>2.179533</td>\n",
       "      <td>22</td>\n",
       "      <td>34.237479</td>\n",
       "      <td>1.09978</td>\n",
       "      <td>0</td>\n",
       "      <td>10</td>\n",
       "      <td>6</td>\n",
       "      <td>4.56954</td>\n",
       "      <td>310.0</td>\n",
       "      <td>384.02</td>\n",
       "    </tr>\n",
       "    <tr>\n",
       "      <th>1338</th>\n",
       "      <td>82.19</td>\n",
       "      <td>0</td>\n",
       "      <td>62.262521</td>\n",
       "      <td>31.13126</td>\n",
       "      <td>2.179533</td>\n",
       "      <td>22</td>\n",
       "      <td>19.927479</td>\n",
       "      <td>0.64011</td>\n",
       "      <td>0</td>\n",
       "      <td>15</td>\n",
       "      <td>6</td>\n",
       "      <td>4.40903</td>\n",
       "      <td>298.0</td>\n",
       "      <td>286.74</td>\n",
       "    </tr>\n",
       "    <tr>\n",
       "      <th>1650</th>\n",
       "      <td>50.77</td>\n",
       "      <td>0</td>\n",
       "      <td>62.262521</td>\n",
       "      <td>31.13126</td>\n",
       "      <td>2.179533</td>\n",
       "      <td>22</td>\n",
       "      <td>-11.492521</td>\n",
       "      <td>-0.36916</td>\n",
       "      <td>0</td>\n",
       "      <td>19</td>\n",
       "      <td>6</td>\n",
       "      <td>3.92731</td>\n",
       "      <td>227.0</td>\n",
       "      <td>73.28</td>\n",
       "    </tr>\n",
       "  </tbody>\n",
       "</table>\n",
       "</div>"
      ],
      "text/plain": [
       "      tx_amount  tx_fraud  mean_amount  std_amount  mean_nb_tx_per_day  \\\n",
       "69        61.51         0    62.262521    31.13126            2.179533   \n",
       "209      129.61         0    62.262521    31.13126            2.179533   \n",
       "749       96.50         0    62.262521    31.13126            2.179533   \n",
       "1338      82.19         0    62.262521    31.13126            2.179533   \n",
       "1650      50.77         0    62.262521    31.13126            2.179533   \n",
       "\n",
       "      nb_terminals  amount_above_mean  deviation_std  deviation_big  hour  \\\n",
       "69              22          -0.752521       -0.02417              0     3   \n",
       "209             22          67.347479        2.16334              1     5   \n",
       "749             22          34.237479        1.09978              0    10   \n",
       "1338            22          19.927479        0.64011              0    15   \n",
       "1650            22         -11.492521       -0.36916              0    19   \n",
       "\n",
       "      day_of_week  log_amount  minutes_since_last_tx  distance_km  \n",
       "69              6     4.11920                  150.0       200.59  \n",
       "209             6     4.86453                  150.0       459.27  \n",
       "749             6     4.56954                  310.0       384.02  \n",
       "1338            6     4.40903                  298.0       286.74  \n",
       "1650            6     3.92731                  227.0        73.28  "
      ]
     },
     "execution_count": 828,
     "metadata": {},
     "output_type": "execute_result"
    }
   ],
   "source": [
    "df.head()"
   ]
  },
  {
   "cell_type": "code",
   "execution_count": 829,
   "metadata": {},
   "outputs": [],
   "source": [
    "df = df.round({'mean_amount':5,'std_amount':5,'mean_nb_tx_per_day':5,'amount_above_mean':5})"
   ]
  },
  {
   "cell_type": "code",
   "execution_count": 830,
   "metadata": {},
   "outputs": [],
   "source": [
    "float64_cols = list(df.select_dtypes(include='float64'))\n",
    "df[float64_cols] = df[float64_cols].astype('float32')"
   ]
  },
  {
   "cell_type": "code",
   "execution_count": 831,
   "metadata": {},
   "outputs": [
    {
     "data": {
      "image/png": "[encoded data removed]",
      "text/plain": [
       "<Figure size 1000x800 with 2 Axes>"
      ]
     },
     "metadata": {},
     "output_type": "display_data"
    }
   ],
   "source": [
    "\n",
    "corr = df.corr()\n",
    "\n",
    "plt.figure(figsize=(10, 8))\n",
    "sns.heatmap(corr, annot=True, fmt=\".2f\", cmap=\"YlGnBu\")\n",
    "plt.title(\"Correlation Heatmap\")\n",
    "plt.show()\n"
   ]
  },
  {
   "cell_type": "code",
   "execution_count": 832,
   "metadata": {},
   "outputs": [],
   "source": [
    "df.to_csv('../data/df_processed.csv', index=False)"
   ]
  },
  {
   "cell_type": "code",
   "execution_count": null,
   "metadata": {},
   "outputs": [],
   "source": []
  },
  {
   "cell_type": "code",
   "execution_count": null,
   "metadata": {},
   "outputs": [],
   "source": []
  }
 ],
 "metadata": {
  "kernelspec": {
   "display_name": "Python 3",
   "language": "python",
   "name": "python3"
  },
  "language_info": {
   "codemirror_mode": {
    "name": "ipython",
    "version": 3
   },
   "file_extension": ".py",
   "mimetype": "text/x-python",
   "name": "python",
   "nbconvert_exporter": "python",
   "pygments_lexer": "ipython3",
   "version": "3.11.4"
  }
 },
 "nbformat": 4,
 "nbformat_minor": 2
}
